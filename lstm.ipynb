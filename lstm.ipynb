{
 "cells": [
  {
   "cell_type": "code",
   "execution_count": 1,
   "metadata": {},
   "outputs": [],
   "source": [
    "import pandas as pd\n",
    "import numpy as np\n",
    "import matplotlib.pyplot as plt\n",
    "from unicodedata import normalize\n",
    "from sklearn.preprocessing import MinMaxScaler\n",
    "from keras.models import Sequential\n",
    "from keras.layers import Dense\n",
    "from keras.layers import GRU\n",
    "from keras.layers import Dropout\n",
    "from sklearn.preprocessing import LabelEncoder, OneHotEncoder\n",
    "from sklearn.compose import ColumnTransformer"
   ]
  },
  {
   "cell_type": "code",
   "execution_count": 2,
   "metadata": {},
   "outputs": [],
   "source": [
    "def accent_remover(x):\n",
    "    try:\n",
    "        float(x)\n",
    "        return x\n",
    "    except:\n",
    "        return normalize('NFKD',x).encode('ASCII', 'ignore').decode('ASCII')"
   ]
  },
  {
   "cell_type": "code",
   "execution_count": 3,
   "metadata": {},
   "outputs": [],
   "source": [
    "dataset_2017 = pd.read_csv('datasets/datatran2017.csv', sep= ';', encoding='ISO-8859-1').dropna().drop_duplicates()\n",
    "dataset_2018 = pd.read_csv('datasets/datatran2018.csv', sep= ';', encoding='ISO-8859-1').dropna().drop_duplicates()\n",
    "dataset = pd.concat([dataset_2017,dataset_2018])\n",
    "\n",
    "dataset = dataset.transform([accent_remover])\n",
    "dataset.columns = dataset.columns.droplevel(1)"
   ]
  },
  {
   "cell_type": "code",
   "execution_count": 4,
   "metadata": {},
   "outputs": [],
   "source": [
    "# Pega as dados das colunas:\n",
    "# data_inversa\tdia_semana\thorario\tuf\tbr\tkm\tcondicao_metereologica\tlatitude\tlongitude\n",
    "training_set = dataset.iloc[:, [1,2,3,4,5,6,13,25,26]].values"
   ]
  },
  {
   "cell_type": "code",
   "execution_count": 5,
   "metadata": {},
   "outputs": [],
   "source": [
    "# Converte os dados de string para number\n",
    "encoder = LabelEncoder()\n",
    "training_set[:,0] = encoder.fit_transform(training_set[:,0])\n",
    "training_set[:,1] = encoder.fit_transform(training_set[:,1])\n",
    "training_set[:,2] = encoder.fit_transform(training_set[:,2])\n",
    "training_set[:,3] = encoder.fit_transform(training_set[:,3])\n",
    "training_set[:,4] = encoder.fit_transform(training_set[:,4])\n",
    "training_set[:,5] = encoder.fit_transform(training_set[:,5])\n",
    "training_set[:,6] = encoder.fit_transform(training_set[:,6])\n",
    "training_set[:,7] = encoder.fit_transform(training_set[:,7])\n",
    "training_set[:,8] = encoder.fit_transform(training_set[:,8])"
   ]
  },
  {
   "cell_type": "code",
   "execution_count": 6,
   "metadata": {},
   "outputs": [],
   "source": [
    "# Converte os dados para uma mesma faixa de valores de 0 a 1\n",
    "sc = MinMaxScaler(feature_range = (0, 1))\n",
    "training_set_scaled = sc.fit_transform(training_set)"
   ]
  },
  {
   "cell_type": "code",
   "execution_count": 7,
   "metadata": {},
   "outputs": [],
   "source": [
    "# Cria a estrutura do dados com 60 timesteps e 1 saida\n",
    "X_train = []\n",
    "y_train = []\n",
    "for i in range(60, 1258):\n",
    "    X_train.append(training_set_scaled[i-60:i,:])\n",
    "    y_train.append(training_set_scaled[i,:])\n",
    "X_train, y_train = np.array(X_train), np.array(y_train)\n"
   ]
  },
  {
   "cell_type": "code",
   "execution_count": 48,
   "metadata": {},
   "outputs": [
    {
     "name": "stdout",
     "output_type": "stream",
     "text": [
      "Epoch 1/50\n",
      "38/38 [==============================] - 14s 377ms/step - loss: 0.0826\n",
      "Epoch 2/50\n",
      "38/38 [==============================] - 13s 345ms/step - loss: 0.0622\n",
      "Epoch 3/50\n",
      "38/38 [==============================] - 12s 317ms/step - loss: 0.0606\n",
      "Epoch 4/50\n",
      "38/38 [==============================] - 12s 315ms/step - loss: 0.0600\n",
      "Epoch 5/50\n",
      "38/38 [==============================] - 12s 321ms/step - loss: 0.0593\n",
      "Epoch 6/50\n",
      "38/38 [==============================] - 12s 327ms/step - loss: 0.0585\n",
      "Epoch 7/50\n",
      "38/38 [==============================] - 13s 337ms/step - loss: 0.0592\n",
      "Epoch 8/50\n",
      "38/38 [==============================] - 12s 323ms/step - loss: 0.0581\n",
      "Epoch 9/50\n",
      "38/38 [==============================] - 13s 335ms/step - loss: 0.0575\n",
      "Epoch 10/50\n",
      "38/38 [==============================] - 12s 325ms/step - loss: 0.0577\n",
      "Epoch 11/50\n",
      "38/38 [==============================] - 12s 319ms/step - loss: 0.0577\n",
      "Epoch 12/50\n",
      "38/38 [==============================] - 12s 318ms/step - loss: 0.0575\n",
      "Epoch 13/50\n",
      "38/38 [==============================] - 12s 321ms/step - loss: 0.0568\n",
      "Epoch 14/50\n",
      "38/38 [==============================] - 12s 319ms/step - loss: 0.0572\n",
      "Epoch 15/50\n",
      "38/38 [==============================] - 12s 319ms/step - loss: 0.0573\n",
      "Epoch 16/50\n",
      "38/38 [==============================] - 10s 260ms/step - loss: 0.0569\n",
      "Epoch 17/50\n",
      "38/38 [==============================] - 9s 247ms/step - loss: 0.0567\n",
      "Epoch 18/50\n",
      "38/38 [==============================] - 9s 245ms/step - loss: 0.0561\n",
      "Epoch 19/50\n",
      "38/38 [==============================] - 9s 245ms/step - loss: 0.0560\n",
      "Epoch 20/50\n",
      "38/38 [==============================] - 12s 306ms/step - loss: 0.0564\n",
      "Epoch 21/50\n",
      "38/38 [==============================] - 13s 341ms/step - loss: 0.0562\n",
      "Epoch 22/50\n",
      "38/38 [==============================] - 12s 323ms/step - loss: 0.0562\n",
      "Epoch 23/50\n",
      "38/38 [==============================] - 12s 320ms/step - loss: 0.0559\n",
      "Epoch 24/50\n",
      "38/38 [==============================] - 12s 323ms/step - loss: 0.0562\n",
      "Epoch 25/50\n",
      "38/38 [==============================] - 12s 322ms/step - loss: 0.0564\n",
      "Epoch 26/50\n",
      "38/38 [==============================] - 12s 326ms/step - loss: 0.0556\n",
      "Epoch 27/50\n",
      "38/38 [==============================] - 12s 328ms/step - loss: 0.0555\n",
      "Epoch 28/50\n",
      "38/38 [==============================] - 12s 323ms/step - loss: 0.0555\n",
      "Epoch 29/50\n",
      "38/38 [==============================] - 12s 319ms/step - loss: 0.0558\n",
      "Epoch 30/50\n",
      "38/38 [==============================] - 12s 321ms/step - loss: 0.0560\n",
      "Epoch 31/50\n",
      "38/38 [==============================] - 12s 317ms/step - loss: 0.0555\n",
      "Epoch 32/50\n",
      "38/38 [==============================] - 14s 357ms/step - loss: 0.0556\n",
      "Epoch 33/50\n",
      "38/38 [==============================] - 10s 268ms/step - loss: 0.0554\n",
      "Epoch 34/50\n",
      "38/38 [==============================] - 15s 382ms/step - loss: 0.0557\n",
      "Epoch 35/50\n",
      "38/38 [==============================] - 13s 329ms/step - loss: 0.0548\n",
      "Epoch 36/50\n",
      "38/38 [==============================] - 13s 335ms/step - loss: 0.0557\n",
      "Epoch 37/50\n",
      "38/38 [==============================] - 13s 348ms/step - loss: 0.0553\n",
      "Epoch 38/50\n",
      "38/38 [==============================] - 13s 341ms/step - loss: 0.0548\n",
      "Epoch 39/50\n",
      "38/38 [==============================] - 13s 337ms/step - loss: 0.0547\n",
      "Epoch 40/50\n",
      "38/38 [==============================] - 15s 383ms/step - loss: 0.0553\n",
      "Epoch 41/50\n",
      "38/38 [==============================] - 15s 396ms/step - loss: 0.0551\n",
      "Epoch 42/50\n",
      "38/38 [==============================] - 15s 398ms/step - loss: 0.0554\n",
      "Epoch 43/50\n",
      "38/38 [==============================] - 14s 365ms/step - loss: 0.0551\n",
      "Epoch 44/50\n",
      "38/38 [==============================] - 16s 411ms/step - loss: 0.0549\n",
      "Epoch 45/50\n",
      "38/38 [==============================] - 17s 455ms/step - loss: 0.0547\n",
      "Epoch 46/50\n",
      "38/38 [==============================] - 15s 398ms/step - loss: 0.0550\n",
      "Epoch 47/50\n",
      "38/38 [==============================] - 15s 395ms/step - loss: 0.0543\n",
      "Epoch 48/50\n",
      "38/38 [==============================] - 19s 504ms/step - loss: 0.0545\n",
      "Epoch 49/50\n",
      "38/38 [==============================] - 19s 489ms/step - loss: 0.0544\n",
      "Epoch 50/50\n",
      "38/38 [==============================] - 16s 411ms/step - loss: 0.0542\n"
     ]
    },
    {
     "data": {
      "text/plain": [
       "<tensorflow.python.keras.callbacks.History at 0x7f869c4c2400>"
      ]
     },
     "execution_count": 48,
     "metadata": {},
     "output_type": "execute_result"
    }
   ],
   "source": [
    "# Inicializa a RNN\n",
    "regressor = Sequential()\n",
    "\n",
    "# Adiciona a primeira camada\n",
    "regressor.add(GRU(units = 100, return_sequences = True, input_shape=(60,9)))\n",
    "regressor.add(Dropout(0.2))\n",
    "\n",
    "# Segunda camada\n",
    "regressor.add(GRU(units = 100, return_sequences = True))\n",
    "regressor.add(Dropout(0.2))\n",
    "\n",
    "# Terceira camada\n",
    "regressor.add(GRU(units = 100, return_sequences = True))\n",
    "regressor.add(Dropout(0.2))\n",
    "\n",
    "# Quarta camada\n",
    "regressor.add(GRU(units = 100))\n",
    "regressor.add(Dropout(0.2))\n",
    "\n",
    "# Camada de saida\n",
    "regressor.add(Dense(units = 9))\n",
    "\n",
    "# Compila\n",
    "regressor.compile(optimizer = 'adam', loss = 'mean_squared_error')\n",
    "\n",
    "# Executa o treinamento\n",
    "regressor.fit(X_train, y_train, epochs = 50, batch_size = 32)\n"
   ]
  },
  {
   "cell_type": "code",
   "execution_count": 49,
   "metadata": {},
   "outputs": [],
   "source": [
    "# Testando os dados analisados com os de 2019\n",
    "dataset_test = pd.read_csv('datasets/datatran2019.csv', sep= ';', encoding='ISO-8859-1').dropna().drop_duplicates()\n",
    "dataset_test = dataset_test.transform([accent_remover])\n",
    "dataset_test.columns = dataset_test.columns.droplevel(1)\n",
    "real_data = dataset_test.iloc[:, [1,2,3,4,5,6,13,25,26]].values"
   ]
  },
  {
   "cell_type": "code",
   "execution_count": 50,
   "metadata": {},
   "outputs": [],
   "source": [
    "encoder = LabelEncoder()\n",
    "real_data[:,0] = encoder.fit_transform(real_data[:,0])\n",
    "real_data[:,1] = encoder.fit_transform(real_data[:,1])\n",
    "real_data[:,2] = encoder.fit_transform(real_data[:,2])\n",
    "real_data[:,3] = encoder.fit_transform(real_data[:,3])\n",
    "real_data[:,4] = encoder.fit_transform(real_data[:,4])\n",
    "real_data[:,5] = encoder.fit_transform(real_data[:,5])\n",
    "real_data[:,6] = encoder.fit_transform(real_data[:,6])\n",
    "real_data[:,7] = encoder.fit_transform(real_data[:,7])\n",
    "real_data[:,8] = encoder.fit_transform(real_data[:,8])"
   ]
  },
  {
   "cell_type": "code",
   "execution_count": 51,
   "metadata": {},
   "outputs": [],
   "source": [
    "# Realiza a predicao dos dados\n",
    "dataset_total = pd.concat((dataset, dataset_test), axis = 0)\n",
    "dataset_total = dataset_total.iloc[:, [1,2,3,4,5,6,13,25,26]].values\n",
    "\n",
    "dataset_total[:,0] = encoder.fit_transform(dataset_total[:,0])\n",
    "dataset_total[:,1] = encoder.fit_transform(dataset_total[:,1])\n",
    "dataset_total[:,2] = encoder.fit_transform(dataset_total[:,2])\n",
    "dataset_total[:,3] = encoder.fit_transform(dataset_total[:,3])\n",
    "dataset_total[:,4] = encoder.fit_transform(dataset_total[:,4])\n",
    "dataset_total[:,5] = encoder.fit_transform(dataset_total[:,5])\n",
    "dataset_total[:,6] = encoder.fit_transform(dataset_total[:,6])\n",
    "dataset_total[:,7] = encoder.fit_transform(dataset_total[:,7])\n",
    "dataset_total[:,8] = encoder.fit_transform(dataset_total[:,8])"
   ]
  },
  {
   "cell_type": "code",
   "execution_count": 52,
   "metadata": {},
   "outputs": [
    {
     "name": "stdout",
     "output_type": "stream",
     "text": [
      "WARNING:tensorflow:6 out of the last 7 calls to <function Model.make_predict_function.<locals>.predict_function at 0x7f8684044620> triggered tf.function retracing. Tracing is expensive and the excessive number of tracings could be due to (1) creating @tf.function repeatedly in a loop, (2) passing tensors with different shapes, (3) passing Python objects instead of tensors. For (1), please define your @tf.function outside of the loop. For (2), @tf.function has experimental_relax_shapes=True option that relaxes argument shapes that can avoid unnecessary retracing. For (3), please refer to https://www.tensorflow.org/tutorials/customization/performance#python_or_tensor_args and https://www.tensorflow.org/api_docs/python/tf/function for  more details.\n"
     ]
    }
   ],
   "source": [
    "inputs = dataset_total[len(dataset_total) - len(dataset_test) - 60:,:]\n",
    "inputs = sc.fit_transform(inputs)\n",
    "X_test = []\n",
    "for i in range(60, 80):\n",
    "    X_test.append(inputs[i-60:i,:])\n",
    "X_test = np.array(X_test)\n",
    "predicted_data = regressor.predict(X_test)\n",
    "predicted_data = sc.inverse_transform(predicted_data)"
   ]
  },
  {
   "cell_type": "code",
   "execution_count": 53,
   "metadata": {},
   "outputs": [
    {
     "name": "stdout",
     "output_type": "stream",
     "text": [
      "[[0 6 72 ... 0 18271 16679]\n",
      " [0 6 72 ... 7 20133 24726]\n",
      " [0 6 36 ... 0 22677 20455]\n",
      " ...\n",
      " [153 4 1018 ... 0 28501 4254]\n",
      " [193 3 1051 ... 4 22218 28796]\n",
      " [294 6 1094 ... 0 2573 3652]]\n"
     ]
    },
    {
     "data": {
      "image/png": "[encoded data removed]",
      "text/plain": [
       "<Figure size 432x288 with 1 Axes>"
      ]
     },
     "metadata": {
      "needs_background": "light"
     },
     "output_type": "display_data"
    }
   ],
   "source": [
    "print(real_data)\n",
    "\n",
    "plt.plot(real_data[0], color = 'red', label = 'Dados reais da data em que ocorreu o acidente')\n",
    "plt.plot(predicted_data[0], color = 'blue', label = 'Predicao da data em que ocorreu o acidente')\n",
    "plt.title('Teste de predicao')\n",
    "plt.legend()\n",
    "plt.show()"
   ]
  },
  {
   "cell_type": "code",
   "execution_count": null,
   "metadata": {},
   "outputs": [],
   "source": []
  }
 ],
 "metadata": {
  "kernelspec": {
   "display_name": "Python 3",
   "language": "python",
   "name": "python3"
  },
  "language_info": {
   "codemirror_mode": {
    "name": "ipython",
    "version": 3
   },
   "file_extension": ".py",
   "mimetype": "text/x-python",
   "name": "python",
   "nbconvert_exporter": "python",
   "pygments_lexer": "ipython3",
   "version": "3.6.8"
  }
 },
 "nbformat": 4,
 "nbformat_minor": 4
}
