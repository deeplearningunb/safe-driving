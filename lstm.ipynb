{
 "cells": [
  {
   "cell_type": "code",
   "execution_count": null,
   "metadata": {},
   "outputs": [],
   "source": [
    "import pandas as pd\n",
    "import numpy as np\n",
    "import matplotlib.pyplot as plt\n",
    "from unicodedata import normalize\n",
    "from sklearn.preprocessing import MinMaxScaler\n",
    "from keras.models import Sequential\n",
    "from keras.layers import Dense\n",
    "from keras.layers import LSTM\n",
    "from keras.layers import Dropout\n",
    "from sklearn.preprocessing import LabelEncoder, OneHotEncoder\n",
    "from sklearn.compose import ColumnTransformer"
   ]
  },
  {
   "cell_type": "code",
   "execution_count": 2,
   "metadata": {},
   "outputs": [],
   "source": [
    "def accent_remover(x):\n",
    "    try:\n",
    "        float(x)\n",
    "        return x\n",
    "    except:\n",
    "        return normalize('NFKD',x).encode('ASCII', 'ignore').decode('ASCII')"
   ]
  },
  {
   "cell_type": "code",
   "execution_count": 3,
   "metadata": {},
   "outputs": [],
   "source": [
    "dataset_2017 = pd.read_csv('datasets/datatran2017.csv', sep= ';', encoding='ISO-8859-1').dropna().drop_duplicates()\n",
    "dataset_2018 = pd.read_csv('datasets/datatran2018.csv', sep= ';', encoding='ISO-8859-1').dropna().drop_duplicates()\n",
    "dataset = pd.concat([dataset_2017,dataset_2018])\n",
    "\n",
    "dataset = dataset.transform([accent_remover])\n",
    "dataset.columns = dataset.columns.droplevel(1)"
   ]
  },
  {
   "cell_type": "code",
   "execution_count": 4,
   "metadata": {},
   "outputs": [],
   "source": [
    "# Pega as dados das colunas:\n",
    "# data_inversa\tdia_semana\thorario\tuf\tbr\tkm\tcondicao_metereologica\tlatitude\tlongitude\n",
    "training_set = dataset.iloc[:, [1,2,3,4,5,6,13,25,26]].values"
   ]
  },
  {
   "cell_type": "code",
   "execution_count": 5,
   "metadata": {},
   "outputs": [],
   "source": [
    "# Converte os dados de string para number\n",
    "encoder = LabelEncoder()\n",
    "training_set[:,0] = encoder.fit_transform(training_set[:,0])\n",
    "training_set[:,1] = encoder.fit_transform(training_set[:,1])\n",
    "training_set[:,2] = encoder.fit_transform(training_set[:,2])\n",
    "training_set[:,3] = encoder.fit_transform(training_set[:,3])\n",
    "training_set[:,4] = encoder.fit_transform(training_set[:,4])\n",
    "training_set[:,5] = encoder.fit_transform(training_set[:,5])\n",
    "training_set[:,6] = encoder.fit_transform(training_set[:,6])\n",
    "training_set[:,7] = encoder.fit_transform(training_set[:,7])\n",
    "training_set[:,8] = encoder.fit_transform(training_set[:,8])"
   ]
  },
  {
   "cell_type": "code",
   "execution_count": 6,
   "metadata": {},
   "outputs": [],
   "source": [
    "# Converte os dados para uma mesma faixa de valores de 0 a 1\n",
    "sc = MinMaxScaler(feature_range = (0, 1))\n",
    "training_set_scaled = sc.fit_transform(training_set)"
   ]
  },
  {
   "cell_type": "code",
   "execution_count": 7,
   "metadata": {},
   "outputs": [],
   "source": [
    "# Cria a estrutura do dados com 60 timesteps e 1 saida\n",
    "X_train = []\n",
    "y_train = []\n",
    "for i in range(60, 1258):\n",
    "    X_train.append(training_set_scaled[i-60:i,:])\n",
    "    y_train.append(training_set_scaled[i,:])\n",
    "X_train, y_train = np.array(X_train), np.array(y_train)\n"
   ]
  },
  {
   "cell_type": "code",
   "execution_count": 8,
   "metadata": {},
   "outputs": [
    {
     "name": "stdout",
     "output_type": "stream",
     "text": [
      "Epoch 1/10\n",
      "38/38 [==============================] - 5s 141ms/step - loss: 0.0971\n",
      "Epoch 2/10\n",
      "38/38 [==============================] - 4s 92ms/step - loss: 0.0668\n",
      "Epoch 3/10\n",
      "38/38 [==============================] - 5s 119ms/step - loss: 0.0644\n",
      "Epoch 4/10\n",
      "38/38 [==============================] - 6s 157ms/step - loss: 0.0634\n",
      "Epoch 5/10\n",
      "38/38 [==============================] - 5s 138ms/step - loss: 0.0626\n",
      "Epoch 6/10\n",
      "38/38 [==============================] - 5s 143ms/step - loss: 0.0611\n",
      "Epoch 7/10\n",
      "38/38 [==============================] - 6s 149ms/step - loss: 0.0610\n",
      "Epoch 8/10\n",
      "38/38 [==============================] - 7s 175ms/step - loss: 0.0604\n",
      "Epoch 9/10\n",
      "38/38 [==============================] - 6s 153ms/step - loss: 0.0608\n",
      "Epoch 10/10\n",
      "38/38 [==============================] - 6s 160ms/step - loss: 0.0601\n"
     ]
    },
    {
     "data": {
      "text/plain": [
       "<tensorflow.python.keras.callbacks.History at 0x7fa648101250>"
      ]
     },
     "execution_count": 8,
     "metadata": {},
     "output_type": "execute_result"
    }
   ],
   "source": [
    "# Inicializa a RNN\n",
    "regressor = Sequential()\n",
    "\n",
    "# Adiciona a primeira camada\n",
    "regressor.add(LSTM(units = 50, return_sequences = True, input_shape=(60,9)))\n",
    "regressor.add(Dropout(0.2))\n",
    "\n",
    "# Segunda camada\n",
    "regressor.add(LSTM(units = 50, return_sequences = True))\n",
    "regressor.add(Dropout(0.2))\n",
    "\n",
    "# Terceira camada\n",
    "regressor.add(LSTM(units = 50, return_sequences = True))\n",
    "regressor.add(Dropout(0.2))\n",
    "\n",
    "# Quarta camada\n",
    "regressor.add(LSTM(units = 50))\n",
    "regressor.add(Dropout(0.2))\n",
    "\n",
    "# Camada de saida\n",
    "regressor.add(Dense(units = 9))\n",
    "\n",
    "# Compila\n",
    "regressor.compile(optimizer = 'adam', loss = 'mean_squared_error')\n",
    "\n",
    "# Executa o treinamento\n",
    "regressor.fit(X_train, y_train, epochs = 10, batch_size = 32)\n"
   ]
  },
  {
   "cell_type": "code",
   "execution_count": 9,
   "metadata": {},
   "outputs": [],
   "source": [
    "# Testando os dados analisados com os de 2019\n",
    "dataset_test = pd.read_csv('datasets/datatran2019.csv', sep= ';', encoding='ISO-8859-1').dropna().drop_duplicates()\n",
    "dataset_test = dataset_test.transform([accent_remover])\n",
    "dataset_test.columns = dataset_test.columns.droplevel(1)\n",
    "real_data = dataset_test.iloc[:, [1,2,3,4,5,6,13,25,26]].values"
   ]
  },
  {
   "cell_type": "code",
   "execution_count": 10,
   "metadata": {},
   "outputs": [],
   "source": [
    "encoder = LabelEncoder()\n",
    "real_data[:,0] = encoder.fit_transform(real_data[:,0])\n",
    "real_data[:,1] = encoder.fit_transform(real_data[:,1])\n",
    "real_data[:,2] = encoder.fit_transform(real_data[:,2])\n",
    "real_data[:,3] = encoder.fit_transform(real_data[:,3])\n",
    "real_data[:,4] = encoder.fit_transform(real_data[:,4])\n",
    "real_data[:,5] = encoder.fit_transform(real_data[:,5])\n",
    "real_data[:,6] = encoder.fit_transform(real_data[:,6])\n",
    "real_data[:,7] = encoder.fit_transform(real_data[:,7])\n",
    "real_data[:,8] = encoder.fit_transform(real_data[:,8])"
   ]
  },
  {
   "cell_type": "code",
   "execution_count": 11,
   "metadata": {},
   "outputs": [],
   "source": [
    "# Realiza a predicao dos dados\n",
    "dataset_total = pd.concat((dataset, dataset_test), axis = 0)\n",
    "dataset_total = dataset_total.iloc[:, [1,2,3,4,5,6,13,25,26]].values\n",
    "\n",
    "dataset_total[:,0] = encoder.fit_transform(dataset_total[:,0])\n",
    "dataset_total[:,1] = encoder.fit_transform(dataset_total[:,1])\n",
    "dataset_total[:,2] = encoder.fit_transform(dataset_total[:,2])\n",
    "dataset_total[:,3] = encoder.fit_transform(dataset_total[:,3])\n",
    "dataset_total[:,4] = encoder.fit_transform(dataset_total[:,4])\n",
    "dataset_total[:,5] = encoder.fit_transform(dataset_total[:,5])\n",
    "dataset_total[:,6] = encoder.fit_transform(dataset_total[:,6])\n",
    "dataset_total[:,7] = encoder.fit_transform(dataset_total[:,7])\n",
    "dataset_total[:,8] = encoder.fit_transform(dataset_total[:,8])"
   ]
  },
  {
   "cell_type": "code",
   "execution_count": 12,
   "metadata": {},
   "outputs": [],
   "source": [
    "inputs = dataset_total[len(dataset_total) - len(dataset_test) - 60:,:]\n",
    "inputs = sc.fit_transform(inputs)\n",
    "X_test = []\n",
    "for i in range(60, 80):\n",
    "    X_test.append(inputs[i-60:i,:])\n",
    "X_test = np.array(X_test)\n",
    "predicted_data = regressor.predict(X_test)\n",
    "predicted_data = sc.inverse_transform(predicted_data)"
   ]
  },
  {
   "cell_type": "code",
   "execution_count": 13,
   "metadata": {},
   "outputs": [
    {
     "name": "stdout",
     "output_type": "stream",
     "text": [
      "[[0 6 72 ... 0 18271 16679]\n",
      " [0 6 72 ... 7 20133 24726]\n",
      " [0 6 36 ... 0 22677 20455]\n",
      " ...\n",
      " [153 4 1018 ... 0 28501 4254]\n",
      " [193 3 1051 ... 4 22218 28796]\n",
      " [294 6 1094 ... 0 2573 3652]]\n"
     ]
    },
    {
     "data": {
      "image/png": "[encoded data removed]",
      "text/plain": [
       "<Figure size 432x288 with 1 Axes>"
      ]
     },
     "metadata": {
      "needs_background": "light"
     },
     "output_type": "display_data"
    }
   ],
   "source": [
    "print(real_data)\n",
    "\n",
    "plt.plot(real_data[0], color = 'red', label = 'Dados reais da data em que ocorreu o acidente')\n",
    "plt.plot(predicted_data[0], color = 'blue', label = 'Predicao da data em que ocorreu o acidente')\n",
    "plt.title('Teste de predicao')\n",
    "plt.legend()\n",
    "plt.show()"
   ]
  }
 ],
 "metadata": {
  "kernelspec": {
   "display_name": "Python 3",
   "language": "python",
   "name": "python3"
  },
  "language_info": {
   "codemirror_mode": {
    "name": "ipython",
    "version": 3
   },
   "file_extension": ".py",
   "mimetype": "text/x-python",
   "name": "python",
   "nbconvert_exporter": "python",
   "pygments_lexer": "ipython3",
   "version": "3.8.6"
  }
 },
 "nbformat": 4,
 "nbformat_minor": 4
}
