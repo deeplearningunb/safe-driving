{
 "cells": [
  {
   "cell_type": "code",
   "execution_count": 39,
   "metadata": {},
   "outputs": [],
   "source": [
    "import pandas as pd\n",
    "import numpy as np\n",
    "import matplotlib.pyplot as plt\n",
    "from unicodedata import normalize\n",
    "from sklearn.preprocessing import MinMaxScaler\n",
    "from keras.models import Sequential\n",
    "from keras.layers import Dense\n",
    "from keras.layers import GRU\n",
    "from keras.layers import Dropout\n",
    "from sklearn.preprocessing import LabelEncoder, OneHotEncoder\n",
    "from sklearn.compose import ColumnTransformer"
   ]
  },
  {
   "cell_type": "code",
   "execution_count": 40,
   "metadata": {},
   "outputs": [],
   "source": [
    "def accent_remover(x):\n",
    "    try:\n",
    "        float(x)\n",
    "        return x\n",
    "    except:\n",
    "        return normalize('NFKD',x).encode('ASCII', 'ignore').decode('ASCII')"
   ]
  },
  {
   "cell_type": "code",
   "execution_count": 41,
   "metadata": {},
   "outputs": [
    {
     "name": "stderr",
     "output_type": "stream",
     "text": [
      "/home/maiconmares/.local/lib/python3.6/site-packages/IPython/core/interactiveshell.py:3072: DtypeWarning: Columns (1,2,3,4,7,8,9,10,11,12,13,14,15,16,17,28,29,30,31,32,33) have mixed types.Specify dtype option on import or set low_memory=False.\n",
      "  interactivity=interactivity, compiler=compiler, result=result)\n"
     ]
    }
   ],
   "source": [
    "# Importar dataset\n",
    "dataset = pd.read_csv('datasets/datatran2017.csv', sep= ',', encoding='ISO-8859-1').dropna().drop_duplicates()\n",
    "dataset = dataset.transform([accent_remover])"
   ]
  },
  {
   "cell_type": "code",
   "execution_count": 71,
   "metadata": {},
   "outputs": [
    {
     "name": "stdout",
     "output_type": "stream",
     "text": [
      "[['Com Vitimas Feridas' 'Plena Noite' 'Decrescente' 'Garoa/Chuvisco'\n",
      "  'Simples' 'Reta']\n",
      " ['Com Vitimas Feridas' 'Plena Noite' 'Decrescente' 'Chuva' 'Simples'\n",
      "  'Nao Informado']\n",
      " ['Com Vitimas Fatais' 'Plena Noite' 'Decrescente' 'Ceu Claro' 'Simples'\n",
      "  'Curva']\n",
      " ...\n",
      " ['Com Vitimas Fatais' 'Anoitecer' 'Decrescente' 'Nublado' 'Simples'\n",
      "  'Curva']\n",
      " ['Com Vitimas Feridas' 'Plena Noite' 'Crescente' 'Nublado' 'Simples'\n",
      "  'Reta']\n",
      " ['Com Vitimas Feridas' 'Anoitecer' 'Crescente' 'Nublado' 'Dupla' 'Reta']]\n",
      "[16  8  7 ... 30  8 13]\n"
     ]
    }
   ],
   "source": [
    "# Pega as dados das colunas:\n",
    "# data_inversa\tdia_semana\thorario\tuf\tbr\tkm\tcondicao_metereologica\tlatitude\tlongitude\n",
    "X = dataset.iloc[:, 11:17].values\n",
    "y = dataset.iloc[:, 22].values\n",
    "y=np.array(y)\n",
    "print(X)\n",
    "print(y)"
   ]
  },
  {
   "cell_type": "code",
   "execution_count": 72,
   "metadata": {},
   "outputs": [
    {
     "name": "stdout",
     "output_type": "stream",
     "text": [
      "[[1 2 1 2 2 5]\n",
      " [1 2 1 1 2 3]\n",
      " [0 2 1 0 2 0]\n",
      " ...\n",
      " [0 1 1 6 2 0]\n",
      " [1 2 0 6 2 5]\n",
      " [1 1 0 6 0 5]]\n",
      "[[1 2 1 2 2 5]\n",
      " [1 2 1 1 2 3]\n",
      " [0 2 1 0 2 0]\n",
      " ...\n",
      " [0 1 1 6 2 0]\n",
      " [1 2 0 6 2 5]\n",
      " [1 1 0 6 0 5]]\n"
     ]
    }
   ],
   "source": [
    "# Converte os dados de string para number gerando as categorias\n",
    "encoder = LabelEncoder()\n",
    "X[:,0] = encoder.fit_transform(X[:,0])\n",
    "X[:,1] = encoder.fit_transform(X[:,1])\n",
    "X[:,2] = encoder.fit_transform(X[:,2])\n",
    "X[:,3] = encoder.fit_transform(X[:,3])\n",
    "X[:,4] = encoder.fit_transform(X[:,4])\n",
    "X[:,5] = encoder.fit_transform(X[:,5])\n",
    "print(X)\n",
    "\n",
    "#ct=ColumnTransformer(transformers=[('encoder', OneHotEncoder(), [0, 1, 2, 3])], remainder='passthrough')\n",
    "#X=np.array(ct.fit_transform(X))\n",
    "print(X)"
   ]
  },
  {
   "cell_type": "code",
   "execution_count": 80,
   "metadata": {},
   "outputs": [],
   "source": [
    "# Divide o dataset em conjunto de treino e conjunto de teste\n",
    "from sklearn.model_selection import train_test_split\n",
    "X_train, X_test, y_train, y_test = train_test_split(X, y, test_size=0.2, random_state=0)"
   ]
  },
  {
   "cell_type": "code",
   "execution_count": 81,
   "metadata": {},
   "outputs": [
    {
     "data": {
      "text/plain": [
       "(35825, 6)"
      ]
     },
     "execution_count": 81,
     "metadata": {},
     "output_type": "execute_result"
    }
   ],
   "source": [
    "# Converte os dados para uma mesma faixa de valores de 0 a 1\n",
    "from sklearn.preprocessing import StandardScaler\n",
    "sc = StandardScaler()\n",
    "X_train = sc.fit_transform(X_train)\n",
    "X_test = sc.transform(X_test)\n",
    "np.shape(X_train)"
   ]
  },
  {
   "cell_type": "code",
   "execution_count": 82,
   "metadata": {},
   "outputs": [],
   "source": [
    "import tensorflow as tf\n",
    "def my_leaky_relu(x):\n",
    "    return tf.nn.leaky_relu(x, alpha=0.01)"
   ]
  },
  {
   "cell_type": "code",
   "execution_count": 94,
   "metadata": {},
   "outputs": [
    {
     "name": "stdout",
     "output_type": "stream",
     "text": [
      "Epoch 1/100\n",
      "1433/1433 [==============================] - 2s 1ms/step - loss: -22429.0938 - mean_squared_error: 309.3260 - accuracy: 0.0000e+00\n",
      "Epoch 2/100\n",
      "1433/1433 [==============================] - 2s 1ms/step - loss: -623999.8125 - mean_squared_error: 307.3067 - accuracy: 0.0000e+00\n",
      "Epoch 3/100\n",
      "1433/1433 [==============================] - 2s 1ms/step - loss: -3308031.0000 - mean_squared_error: 307.3067 - accuracy: 0.0000e+00\n",
      "Epoch 4/100\n",
      "1433/1433 [==============================] - 2s 1ms/step - loss: -9783999.0000 - mean_squared_error: 307.3067 - accuracy: 0.0000e+00\n",
      "Epoch 5/100\n",
      "1433/1433 [==============================] - 2s 1ms/step - loss: -22104624.0000 - mean_squared_error: 307.3067 - accuracy: 0.0000e+00\n",
      "Epoch 6/100\n",
      "1433/1433 [==============================] - 2s 1ms/step - loss: -43046196.0000 - mean_squared_error: 307.3067 - accuracy: 0.0000e+00\n",
      "Epoch 7/100\n",
      "1433/1433 [==============================] - 2s 1ms/step - loss: -74581800.0000 - mean_squared_error: 307.3067 - accuracy: 0.0000e+00\n",
      "Epoch 8/100\n",
      "1433/1433 [==============================] - 2s 1ms/step - loss: -118590352.0000 - mean_squared_error: 307.3067 - accuracy: 0.0000e+00\n",
      "Epoch 9/100\n",
      "1433/1433 [==============================] - 2s 1ms/step - loss: -179656880.0000 - mean_squared_error: 307.3067 - accuracy: 0.0000e+00\n",
      "Epoch 10/100\n",
      "1433/1433 [==============================] - 2s 1ms/step - loss: -258834624.0000 - mean_squared_error: 307.3067 - accuracy: 0.0000e+00\n",
      "Epoch 11/100\n",
      "1433/1433 [==============================] - 2s 1ms/step - loss: -360586496.0000 - mean_squared_error: 307.3067 - accuracy: 0.0000e+00\n",
      "Epoch 12/100\n",
      "1433/1433 [==============================] - 2s 1ms/step - loss: -491938944.0000 - mean_squared_error: 307.3067 - accuracy: 0.0000e+00\n",
      "Epoch 13/100\n",
      "1433/1433 [==============================] - 2s 1ms/step - loss: -649314496.0000 - mean_squared_error: 307.3067 - accuracy: 0.0000e+00\n",
      "Epoch 14/100\n",
      "1433/1433 [==============================] - 2s 1ms/step - loss: -839182080.0000 - mean_squared_error: 307.3067 - accuracy: 0.0000e+00\n",
      "Epoch 15/100\n",
      "1433/1433 [==============================] - 2s 1ms/step - loss: -1064820736.0000 - mean_squared_error: 307.3067 - accuracy: 0.0000e+00\n",
      "Epoch 16/100\n",
      "1433/1433 [==============================] - 2s 1ms/step - loss: -1345530240.0000 - mean_squared_error: 307.3067 - accuracy: 0.0000e+00\n",
      "Epoch 17/100\n",
      "1433/1433 [==============================] - 2s 1ms/step - loss: -1662465024.0000 - mean_squared_error: 307.3067 - accuracy: 0.0000e+00\n",
      "Epoch 18/100\n",
      "1433/1433 [==============================] - 2s 1ms/step - loss: -2032349056.0000 - mean_squared_error: 307.3067 - accuracy: 0.0000e+00\n",
      "Epoch 19/100\n",
      "1433/1433 [==============================] - 2s 1ms/step - loss: -2467127808.0000 - mean_squared_error: 307.3067 - accuracy: 0.0000e+00\n",
      "Epoch 20/100\n",
      "1433/1433 [==============================] - 2s 1ms/step - loss: -2955187712.0000 - mean_squared_error: 307.3067 - accuracy: 0.0000e+00\n",
      "Epoch 21/100\n",
      "1433/1433 [==============================] - 2s 1ms/step - loss: -3527245824.0000 - mean_squared_error: 307.3067 - accuracy: 0.0000e+00\n",
      "Epoch 22/100\n",
      "1433/1433 [==============================] - 2s 1ms/step - loss: -4151319552.0000 - mean_squared_error: 307.3067 - accuracy: 0.0000e+00\n",
      "Epoch 23/100\n",
      "1433/1433 [==============================] - 2s 1ms/step - loss: -4820486656.0000 - mean_squared_error: 307.3067 - accuracy: 0.0000e+00\n",
      "Epoch 24/100\n",
      "1433/1433 [==============================] - 2s 1ms/step - loss: -5636917248.0000 - mean_squared_error: 307.3067 - accuracy: 0.0000e+00\n",
      "Epoch 25/100\n",
      "1433/1433 [==============================] - 2s 1ms/step - loss: -6545654784.0000 - mean_squared_error: 307.3067 - accuracy: 0.0000e+00\n",
      "Epoch 26/100\n",
      "1433/1433 [==============================] - 2s 1ms/step - loss: -7452295168.0000 - mean_squared_error: 307.3067 - accuracy: 0.0000e+00\n",
      "Epoch 27/100\n",
      "1433/1433 [==============================] - 2s 1ms/step - loss: -8561184256.0000 - mean_squared_error: 307.3067 - accuracy: 0.0000e+00\n",
      "Epoch 28/100\n",
      "1433/1433 [==============================] - 2s 1ms/step - loss: -9757949952.0000 - mean_squared_error: 307.3067 - accuracy: 0.0000e+00\n",
      "Epoch 29/100\n",
      "1433/1433 [==============================] - 2s 1ms/step - loss: -11102565376.0000 - mean_squared_error: 307.3067 - accuracy: 0.0000e+00\n",
      "Epoch 30/100\n",
      "1433/1433 [==============================] - 2s 1ms/step - loss: -12526904320.0000 - mean_squared_error: 307.3067 - accuracy: 0.0000e+00\n",
      "Epoch 31/100\n",
      "1433/1433 [==============================] - 2s 1ms/step - loss: -14023393280.0000 - mean_squared_error: 307.3067 - accuracy: 0.0000e+00\n",
      "Epoch 32/100\n",
      "1433/1433 [==============================] - 2s 1ms/step - loss: -15844027392.0000 - mean_squared_error: 307.3067 - accuracy: 0.0000e+00\n",
      "Epoch 33/100\n",
      "1433/1433 [==============================] - 2s 1ms/step - loss: -17759361024.0000 - mean_squared_error: 307.3067 - accuracy: 0.0000e+00\n",
      "Epoch 34/100\n",
      "1433/1433 [==============================] - 2s 1ms/step - loss: -19745212416.0000 - mean_squared_error: 307.3067 - accuracy: 0.0000e+00\n",
      "Epoch 35/100\n",
      "1433/1433 [==============================] - 2s 1ms/step - loss: -21820645376.0000 - mean_squared_error: 307.3067 - accuracy: 0.0000e+00\n",
      "Epoch 36/100\n",
      "1433/1433 [==============================] - 2s 1ms/step - loss: -24213735424.0000 - mean_squared_error: 307.3067 - accuracy: 0.0000e+00\n",
      "Epoch 37/100\n",
      "1433/1433 [==============================] - 2s 1ms/step - loss: -26730942464.0000 - mean_squared_error: 307.3067 - accuracy: 0.0000e+00\n",
      "Epoch 38/100\n",
      "1433/1433 [==============================] - 2s 1ms/step - loss: -29566986240.0000 - mean_squared_error: 307.3067 - accuracy: 0.0000e+00\n",
      "Epoch 39/100\n",
      "1433/1433 [==============================] - 2s 1ms/step - loss: -32630366208.0000 - mean_squared_error: 307.3067 - accuracy: 0.0000e+00\n",
      "Epoch 40/100\n",
      "1433/1433 [==============================] - 2s 1ms/step - loss: -35807891456.0000 - mean_squared_error: 307.3067 - accuracy: 0.0000e+00\n",
      "Epoch 41/100\n",
      "1433/1433 [==============================] - 2s 1ms/step - loss: -38997118976.0000 - mean_squared_error: 307.3067 - accuracy: 0.0000e+00\n",
      "Epoch 42/100\n",
      "1433/1433 [==============================] - 2s 1ms/step - loss: -42608844800.0000 - mean_squared_error: 307.3067 - accuracy: 0.0000e+00\n",
      "Epoch 43/100\n",
      "1433/1433 [==============================] - 2s 1ms/step - loss: -46452658176.0000 - mean_squared_error: 307.3067 - accuracy: 0.0000e+00\n",
      "Epoch 44/100\n",
      "1433/1433 [==============================] - 2s 1ms/step - loss: -50376556544.0000 - mean_squared_error: 307.3067 - accuracy: 0.0000e+00\n",
      "Epoch 45/100\n",
      "1433/1433 [==============================] - 2s 1ms/step - loss: -54781431808.0000 - mean_squared_error: 307.3067 - accuracy: 0.0000e+00\n",
      "Epoch 46/100\n",
      "1433/1433 [==============================] - 2s 1ms/step - loss: -59125514240.0000 - mean_squared_error: 307.3067 - accuracy: 0.0000e+00\n",
      "Epoch 47/100\n",
      "1433/1433 [==============================] - 2s 1ms/step - loss: -64435060736.0000 - mean_squared_error: 307.3067 - accuracy: 0.0000e+00\n",
      "Epoch 48/100\n",
      "1433/1433 [==============================] - 2s 1ms/step - loss: -69682774016.0000 - mean_squared_error: 307.3067 - accuracy: 0.0000e+00\n",
      "Epoch 49/100\n",
      "1433/1433 [==============================] - 2s 2ms/step - loss: -74868563968.0000 - mean_squared_error: 307.3067 - accuracy: 0.0000e+00\n",
      "Epoch 50/100\n",
      "1433/1433 [==============================] - 2s 2ms/step - loss: -80953278464.0000 - mean_squared_error: 307.3067 - accuracy: 0.0000e+00\n",
      "Epoch 51/100\n",
      "1433/1433 [==============================] - 2s 1ms/step - loss: -87095336960.0000 - mean_squared_error: 307.3067 - accuracy: 0.0000e+00\n",
      "Epoch 52/100\n",
      "1433/1433 [==============================] - 2s 1ms/step - loss: -93071892480.0000 - mean_squared_error: 307.3067 - accuracy: 0.0000e+00\n",
      "Epoch 53/100\n",
      "1433/1433 [==============================] - 2s 1ms/step - loss: -99704102912.0000 - mean_squared_error: 307.3067 - accuracy: 0.0000e+00\n",
      "Epoch 54/100\n",
      "1433/1433 [==============================] - 2s 1ms/step - loss: -107312087040.0000 - mean_squared_error: 307.3067 - accuracy: 0.0000e+00\n",
      "Epoch 55/100\n",
      "1433/1433 [==============================] - 2s 1ms/step - loss: -114749636608.0000 - mean_squared_error: 307.3067 - accuracy: 0.0000e+00\n",
      "Epoch 56/100\n"
     ]
    },
    {
     "name": "stdout",
     "output_type": "stream",
     "text": [
      "1433/1433 [==============================] - 2s 1ms/step - loss: -122962345984.0000 - mean_squared_error: 307.3067 - accuracy: 0.0000e+00\n",
      "Epoch 57/100\n",
      "1433/1433 [==============================] - 2s 1ms/step - loss: -131145490432.0000 - mean_squared_error: 307.3067 - accuracy: 0.0000e+00\n",
      "Epoch 58/100\n",
      "1433/1433 [==============================] - 2s 1ms/step - loss: -139852316672.0000 - mean_squared_error: 307.3067 - accuracy: 0.0000e+00\n",
      "Epoch 59/100\n",
      "1433/1433 [==============================] - 2s 1ms/step - loss: -149403516928.0000 - mean_squared_error: 307.3067 - accuracy: 0.0000e+00\n",
      "Epoch 60/100\n",
      "1433/1433 [==============================] - 2s 1ms/step - loss: -158589976576.0000 - mean_squared_error: 307.3067 - accuracy: 0.0000e+00\n",
      "Epoch 61/100\n",
      "1433/1433 [==============================] - 2s 1ms/step - loss: -169250504704.0000 - mean_squared_error: 307.3067 - accuracy: 0.0000e+00\n",
      "Epoch 62/100\n",
      "1433/1433 [==============================] - 2s 1ms/step - loss: -180010549248.0000 - mean_squared_error: 307.3067 - accuracy: 0.0000e+00\n",
      "Epoch 63/100\n",
      "1433/1433 [==============================] - 2s 1ms/step - loss: -190867275776.0000 - mean_squared_error: 307.3067 - accuracy: 0.0000e+00\n",
      "Epoch 64/100\n",
      "1433/1433 [==============================] - 2s 1ms/step - loss: -201302048768.0000 - mean_squared_error: 307.3067 - accuracy: 0.0000e+00\n",
      "Epoch 65/100\n",
      "1433/1433 [==============================] - 2s 1ms/step - loss: -213294383104.0000 - mean_squared_error: 307.3067 - accuracy: 0.0000e+00\n",
      "Epoch 66/100\n",
      "1433/1433 [==============================] - 2s 1ms/step - loss: -227167977472.0000 - mean_squared_error: 307.3067 - accuracy: 0.0000e+00\n",
      "Epoch 67/100\n",
      "1433/1433 [==============================] - 2s 1ms/step - loss: -240011493376.0000 - mean_squared_error: 307.3067 - accuracy: 0.0000e+00\n",
      "Epoch 68/100\n",
      "1433/1433 [==============================] - 2s 1ms/step - loss: -252820242432.0000 - mean_squared_error: 307.3067 - accuracy: 0.0000e+00\n",
      "Epoch 69/100\n",
      "1433/1433 [==============================] - 2s 1ms/step - loss: -267728781312.0000 - mean_squared_error: 307.3067 - accuracy: 0.0000e+00\n",
      "Epoch 70/100\n",
      "1433/1433 [==============================] - 2s 1ms/step - loss: -281335300096.0000 - mean_squared_error: 307.3067 - accuracy: 0.0000e+00\n",
      "Epoch 71/100\n",
      "1433/1433 [==============================] - 2s 1ms/step - loss: -297508372480.0000 - mean_squared_error: 307.3067 - accuracy: 0.0000e+00\n",
      "Epoch 72/100\n",
      "1433/1433 [==============================] - 2s 1ms/step - loss: -313524649984.0000 - mean_squared_error: 307.3067 - accuracy: 0.0000e+00\n",
      "Epoch 73/100\n",
      "1433/1433 [==============================] - 2s 1ms/step - loss: -329522806784.0000 - mean_squared_error: 307.3067 - accuracy: 0.0000e+00\n",
      "Epoch 74/100\n",
      "1433/1433 [==============================] - 2s 1ms/step - loss: -346058424320.0000 - mean_squared_error: 307.3067 - accuracy: 0.0000e+00\n",
      "Epoch 75/100\n",
      "1433/1433 [==============================] - 2s 1ms/step - loss: -365850722304.0000 - mean_squared_error: 307.3067 - accuracy: 0.0000e+00\n",
      "Epoch 76/100\n",
      "1433/1433 [==============================] - 2s 1ms/step - loss: -385040908288.0000 - mean_squared_error: 307.3067 - accuracy: 0.0000e+00\n",
      "Epoch 77/100\n",
      "1433/1433 [==============================] - 2s 1ms/step - loss: -404165099520.0000 - mean_squared_error: 307.3067 - accuracy: 0.0000e+00\n",
      "Epoch 78/100\n",
      "1433/1433 [==============================] - 2s 1ms/step - loss: -423378812928.0000 - mean_squared_error: 307.3067 - accuracy: 0.0000e+00\n",
      "Epoch 79/100\n",
      "1433/1433 [==============================] - 2s 1ms/step - loss: -443912421376.0000 - mean_squared_error: 307.3067 - accuracy: 0.0000e+00\n",
      "Epoch 80/100\n",
      "1433/1433 [==============================] - 2s 1ms/step - loss: -463743352832.0000 - mean_squared_error: 307.3067 - accuracy: 0.0000e+00\n",
      "Epoch 81/100\n",
      "1433/1433 [==============================] - 2s 1ms/step - loss: -488602238976.0000 - mean_squared_error: 307.3067 - accuracy: 0.0000e+00\n",
      "Epoch 82/100\n",
      "1433/1433 [==============================] - 2s 1ms/step - loss: -509790027776.0000 - mean_squared_error: 307.3067 - accuracy: 0.0000e+00\n",
      "Epoch 83/100\n",
      "1433/1433 [==============================] - 2s 1ms/step - loss: -533312765952.0000 - mean_squared_error: 307.3067 - accuracy: 0.0000e+00\n",
      "Epoch 84/100\n",
      "1433/1433 [==============================] - 2s 1ms/step - loss: -557278887936.0000 - mean_squared_error: 307.3067 - accuracy: 0.0000e+00\n",
      "Epoch 85/100\n",
      "1433/1433 [==============================] - 2s 1ms/step - loss: -586679451648.0000 - mean_squared_error: 307.3067 - accuracy: 0.0000e+00\n",
      "Epoch 86/100\n",
      "1433/1433 [==============================] - 2s 1ms/step - loss: -611923722240.0000 - mean_squared_error: 307.3067 - accuracy: 0.0000e+00\n",
      "Epoch 87/100\n",
      "1433/1433 [==============================] - 2s 1ms/step - loss: -637827153920.0000 - mean_squared_error: 307.3067 - accuracy: 0.0000e+00\n",
      "Epoch 88/100\n",
      "1433/1433 [==============================] - 2s 1ms/step - loss: -664689967104.0000 - mean_squared_error: 307.3067 - accuracy: 0.0000e+00\n",
      "Epoch 89/100\n",
      "1433/1433 [==============================] - 2s 1ms/step - loss: -696531812352.0000 - mean_squared_error: 307.3067 - accuracy: 0.0000e+00\n",
      "Epoch 90/100\n",
      "1433/1433 [==============================] - 2s 1ms/step - loss: -726471147520.0000 - mean_squared_error: 307.3067 - accuracy: 0.0000e+00\n",
      "Epoch 91/100\n",
      "1433/1433 [==============================] - 2s 1ms/step - loss: -756190281728.0000 - mean_squared_error: 307.3067 - accuracy: 0.0000e+00\n",
      "Epoch 92/100\n",
      "1433/1433 [==============================] - 2s 1ms/step - loss: -788290207744.0000 - mean_squared_error: 307.3067 - accuracy: 0.0000e+00\n",
      "Epoch 93/100\n",
      "1433/1433 [==============================] - 2s 1ms/step - loss: -822588932096.0000 - mean_squared_error: 307.3067 - accuracy: 0.0000e+00\n",
      "Epoch 94/100\n",
      "1433/1433 [==============================] - 2s 1ms/step - loss: -858204209152.0000 - mean_squared_error: 307.3067 - accuracy: 0.0000e+00\n",
      "Epoch 95/100\n",
      "1433/1433 [==============================] - 2s 1ms/step - loss: -886049406976.0000 - mean_squared_error: 307.3067 - accuracy: 0.0000e+00\n",
      "Epoch 96/100\n",
      "1433/1433 [==============================] - 2s 1ms/step - loss: -926284382208.0000 - mean_squared_error: 307.3067 - accuracy: 0.0000e+00\n",
      "Epoch 97/100\n",
      "1433/1433 [==============================] - 2s 1ms/step - loss: -960201490432.0000 - mean_squared_error: 307.3067 - accuracy: 0.0000e+00\n",
      "Epoch 98/100\n",
      "1433/1433 [==============================] - 2s 1ms/step - loss: -996646060032.0000 - mean_squared_error: 307.3067 - accuracy: 0.0000e+00\n",
      "Epoch 99/100\n",
      "1433/1433 [==============================] - 2s 1ms/step - loss: -1038724759552.0000 - mean_squared_error: 307.3067 - accuracy: 0.0000e+00\n",
      "Epoch 100/100\n",
      "1433/1433 [==============================] - 2s 1ms/step - loss: -1078733832192.0000 - mean_squared_error: 307.3067 - accuracy: 0.0000e+00\n"
     ]
    },
    {
     "data": {
      "text/plain": [
       "<tensorflow.python.keras.callbacks.History at 0x7f59722147b8>"
      ]
     },
     "execution_count": 94,
     "metadata": {},
     "output_type": "execute_result"
    }
   ],
   "source": [
    "# Inicializa a ANN\n",
    "regressor = Sequential()\n",
    "\n",
    "# Adiciona a primeira camada\n",
    "regressor.add(Dense(units=6, activation='relu', input_dim=6))\n",
    "regressor.add(Dropout(0.2))\n",
    "\n",
    "# Segunda camada\n",
    "regressor.add(Dense(units=6, activation='relu'))\n",
    "regressor.add(Dropout(0.2))\n",
    "\n",
    "regressor.add(Dense(units=6, activation='relu'))\n",
    "\n",
    "# Camada de saida\n",
    "regressor.add(Dense(units=1, activation='sigmoid'))\n",
    "#regressor.add(Dropout(0.2))\n",
    "\n",
    "# Compila\n",
    "regressor.compile(optimizer = 'adam', loss = 'binary_crossentropy', metrics=['mean_squared_error', 'accuracy'])\n",
    "\n",
    "# Executa o treinamento\n",
    "regressor.fit(X_train, y_train, epochs = 100, batch_size = 25)\n"
   ]
  },
  {
   "cell_type": "code",
   "execution_count": null,
   "metadata": {},
   "outputs": [],
   "source": [
    "# Executa predição\n",
    "y_pred=regressor.predict(X_test)\n",
    "y_pred"
   ]
  },
  {
   "cell_type": "code",
   "execution_count": null,
   "metadata": {},
   "outputs": [],
   "source": [
    "y_pred=(y_pred>0.5)\n",
    "y_pred"
   ]
  },
  {
   "cell_type": "code",
   "execution_count": null,
   "metadata": {},
   "outputs": [],
   "source": [
    "from sklearn.metrics import confusion_matrix\n",
    "cm=confusion_matrix(y_test, y_pred)\n",
    "print(cm)"
   ]
  },
  {
   "cell_type": "code",
   "execution_count": null,
   "metadata": {},
   "outputs": [],
   "source": []
  }
 ],
 "metadata": {
  "kernelspec": {
   "display_name": "Python 3",
   "language": "python",
   "name": "python3"
  },
  "language_info": {
   "codemirror_mode": {
    "name": "ipython",
    "version": 3
   },
   "file_extension": ".py",
   "mimetype": "text/x-python",
   "name": "python",
   "nbconvert_exporter": "python",
   "pygments_lexer": "ipython3",
   "version": "3.6.8"
  }
 },
 "nbformat": 4,
 "nbformat_minor": 4
}
