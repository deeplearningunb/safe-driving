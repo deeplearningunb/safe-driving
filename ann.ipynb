{
 "cells": [
  {
   "cell_type": "code",
   "execution_count": 27,
   "metadata": {},
   "outputs": [],
   "source": [
    "import pandas as pd\n",
    "import numpy as np\n",
    "import matplotlib.pyplot as plt\n",
    "from unicodedata import normalize\n",
    "from sklearn.preprocessing import MinMaxScaler\n",
    "from keras.models import Sequential\n",
    "from keras.layers import Dense\n",
    "from keras.layers import GRU\n",
    "from keras.layers import Dropout\n",
    "from sklearn.preprocessing import LabelEncoder, OneHotEncoder\n",
    "from sklearn.compose import ColumnTransformer"
   ]
  },
  {
   "cell_type": "code",
   "execution_count": 28,
   "metadata": {},
   "outputs": [],
   "source": [
    "def accent_remover(x):\n",
    "    try:\n",
    "        float(x)\n",
    "        return x\n",
    "    except:\n",
    "        return normalize('NFKD',x).encode('ASCII', 'ignore').decode('ASCII')"
   ]
  },
  {
   "cell_type": "code",
   "execution_count": 29,
   "metadata": {},
   "outputs": [
    {
     "name": "stderr",
     "output_type": "stream",
     "text": [
      "/home/maiconmares/.local/lib/python3.6/site-packages/IPython/core/interactiveshell.py:3072: DtypeWarning: Columns (1,2,3,4,7,8,9,10,11,12,13,14,15,16,17,28,29,30,31,32,33) have mixed types.Specify dtype option on import or set low_memory=False.\n",
      "  interactivity=interactivity, compiler=compiler, result=result)\n"
     ]
    }
   ],
   "source": [
    "# Importar dataset\n",
    "dataset = pd.read_csv('datasets/datatran2017.csv', sep= ',', encoding='ISO-8859-1').dropna().drop_duplicates()\n",
    "dataset = dataset.transform([accent_remover])\n",
    "dataset.columns = dataset.columns.droplevel(1)"
   ]
  },
  {
   "cell_type": "code",
   "execution_count": 43,
   "metadata": {},
   "outputs": [
    {
     "name": "stdout",
     "output_type": "stream",
     "text": [
      "[['Plena Noite' 'Decrescente' 'Garoa/Chuvisco' 'Simples' 'Reta' 'Nao']\n",
      " ['Plena Noite' 'Decrescente' 'Chuva' 'Simples' 'Nao Informado' 'Nao']\n",
      " ['Plena Noite' 'Decrescente' 'Ceu Claro' 'Simples' 'Curva' 'Sim']\n",
      " ...\n",
      " ['Anoitecer' 'Decrescente' 'Nublado' 'Simples' 'Curva' 'Sim']\n",
      " ['Plena Noite' 'Crescente' 'Nublado' 'Simples' 'Reta' 'Nao']\n",
      " ['Anoitecer' 'Crescente' 'Nublado' 'Dupla' 'Reta' 'Nao']]\n",
      "[16  8  7 ... 30  8 13]\n"
     ]
    }
   ],
   "source": [
    "# Pega as dados das colunas:\n",
    "# fase_dia\tsentido_via\tcondicao_meteorologica\ttipo_pista\ttracado_via\tuso_solo\n",
    "X = dataset.iloc[:, 12:18].values\n",
    "y = dataset.iloc[:, 22].values\n",
    "X=np.array(X)\n",
    "y=np.array(y)\n",
    "print(X)\n",
    "print(y)"
   ]
  },
  {
   "cell_type": "code",
   "execution_count": 44,
   "metadata": {},
   "outputs": [
    {
     "name": "stdout",
     "output_type": "stream",
     "text": [
      "[[2 1 2 2 5 0]\n",
      " [2 1 1 2 3 0]\n",
      " [2 1 0 2 0 1]\n",
      " ...\n",
      " [1 1 6 2 0 1]\n",
      " [2 0 6 2 5 0]\n",
      " [1 0 6 0 5 0]]\n",
      "[[2 1 2 2 5 0]\n",
      " [2 1 1 2 3 0]\n",
      " [2 1 0 2 0 1]\n",
      " ...\n",
      " [1 1 6 2 0 1]\n",
      " [2 0 6 2 5 0]\n",
      " [1 0 6 0 5 0]]\n"
     ]
    }
   ],
   "source": [
    "# Converte os dados de string para number gerando as categorias\n",
    "encoder = LabelEncoder()\n",
    "X[:,0] = encoder.fit_transform(X[:,0])\n",
    "X[:,1] = encoder.fit_transform(X[:,1])\n",
    "X[:,2] = encoder.fit_transform(X[:,2])\n",
    "X[:,3] = encoder.fit_transform(X[:,3])\n",
    "X[:,4] = encoder.fit_transform(X[:,4])\n",
    "X[:,5] = encoder.fit_transform(X[:,5])\n",
    "print(X)\n",
    "\n",
    "#ct=ColumnTransformer(transformers=[('encoder', OneHotEncoder(), [0, 1, 2, 3])], remainder='passthrough')\n",
    "#X=np.array(ct.fit_transform(X))\n",
    "print(X)"
   ]
  },
  {
   "cell_type": "code",
   "execution_count": 45,
   "metadata": {},
   "outputs": [
    {
     "name": "stdout",
     "output_type": "stream",
     "text": [
      "(44782, 6)\n",
      "(44782, 1)\n"
     ]
    }
   ],
   "source": [
    "# Converte os dados para uma mesma faixa de valores de 0 a 1\n",
    "from sklearn.preprocessing import StandardScaler\n",
    "#ms=MinMaxScaler(feature_range=(0,1))\n",
    "sc=StandardScaler();\n",
    "\n",
    "X=sc.fit_transform(X)\n",
    "\n",
    "y=y.reshape(-1,1)\n",
    "y=sc.fit_transform(y)\n",
    "\n",
    "print(np.shape(X))\n",
    "print(np.shape(y))"
   ]
  },
  {
   "cell_type": "code",
   "execution_count": 46,
   "metadata": {},
   "outputs": [],
   "source": [
    "# Divide o dataset em conjunto de treino e conjunto de teste\n",
    "from sklearn.model_selection import train_test_split\n",
    "X_train, X_test, y_train, y_test = train_test_split(X, y, test_size=0.2, random_state=0)"
   ]
  },
  {
   "cell_type": "code",
   "execution_count": null,
   "metadata": {},
   "outputs": [],
   "source": []
  },
  {
   "cell_type": "code",
   "execution_count": 47,
   "metadata": {},
   "outputs": [],
   "source": [
    "import tensorflow as tf\n",
    "def my_leaky_relu(x):\n",
    "    return tf.nn.leaky_relu(x, alpha=0.01)"
   ]
  },
  {
   "cell_type": "code",
   "execution_count": 51,
   "metadata": {
    "scrolled": false
   },
   "outputs": [
    {
     "name": "stdout",
     "output_type": "stream",
     "text": [
      "Epoch 1/100\n",
      "1433/1433 [==============================] - 3s 2ms/step - loss: 0.3724 - mean_squared_error: 1.1432 - accuracy: 0.0000e+00\n",
      "Epoch 2/100\n",
      "1433/1433 [==============================] - 3s 2ms/step - loss: 0.1341 - mean_squared_error: 1.0536 - accuracy: 0.0000e+00\n",
      "Epoch 3/100\n",
      "1433/1433 [==============================] - 3s 2ms/step - loss: 0.0668 - mean_squared_error: 1.0441 - accuracy: 0.0000e+00\n",
      "Epoch 4/100\n",
      "1433/1433 [==============================] - 3s 2ms/step - loss: 0.0764 - mean_squared_error: 1.0424 - accuracy: 0.0000e+00\n",
      "Epoch 5/100\n",
      "1433/1433 [==============================] - 3s 2ms/step - loss: 0.0755 - mean_squared_error: 1.0416 - accuracy: 0.0000e+00\n",
      "Epoch 6/100\n",
      "1433/1433 [==============================] - 3s 2ms/step - loss: 0.0580 - mean_squared_error: 1.0405 - accuracy: 0.0000e+00\n",
      "Epoch 7/100\n",
      "1433/1433 [==============================] - 3s 2ms/step - loss: 0.0358 - mean_squared_error: 1.0403 - accuracy: 0.0000e+00\n",
      "Epoch 8/100\n",
      "1433/1433 [==============================] - 3s 2ms/step - loss: 0.0254 - mean_squared_error: 1.0404 - accuracy: 0.0000e+00\n",
      "Epoch 9/100\n",
      "1433/1433 [==============================] - 3s 2ms/step - loss: 0.0365 - mean_squared_error: 1.0404 - accuracy: 0.0000e+00\n",
      "Epoch 10/100\n",
      "1433/1433 [==============================] - 3s 2ms/step - loss: 0.0556 - mean_squared_error: 1.0402 - accuracy: 0.0000e+00\n",
      "Epoch 11/100\n",
      "1433/1433 [==============================] - 3s 2ms/step - loss: 0.0034 - mean_squared_error: 1.0402 - accuracy: 0.0000e+00\n",
      "Epoch 12/100\n",
      "1433/1433 [==============================] - 3s 2ms/step - loss: 0.0395 - mean_squared_error: 1.0402 - accuracy: 0.0000e+00\n",
      "Epoch 13/100\n",
      "1433/1433 [==============================] - 3s 2ms/step - loss: 0.0502 - mean_squared_error: 1.0404 - accuracy: 0.0000e+00\n",
      "Epoch 14/100\n",
      "1433/1433 [==============================] - 3s 2ms/step - loss: 0.0563 - mean_squared_error: 1.0402 - accuracy: 0.0000e+00\n",
      "Epoch 15/100\n",
      "1433/1433 [==============================] - 3s 2ms/step - loss: 0.0357 - mean_squared_error: 1.0400 - accuracy: 0.0000e+00\n",
      "Epoch 16/100\n",
      "1433/1433 [==============================] - 3s 2ms/step - loss: 0.0434 - mean_squared_error: 1.0400 - accuracy: 0.0000e+00A: 1s - loss: 0.0920 - mean_squared_error: 1.0491\n",
      "Epoch 17/100\n",
      "1433/1433 [==============================] - 3s 2ms/step - loss: 0.0431 - mean_squared_error: 1.0399 - accuracy: 0.0000e+00\n",
      "Epoch 18/100\n",
      "1433/1433 [==============================] - 3s 2ms/step - loss: 0.0443 - mean_squared_error: 1.0400 - accuracy: 0.0000e+00\n",
      "Epoch 19/100\n",
      "1433/1433 [==============================] - 3s 2ms/step - loss: 0.0679 - mean_squared_error: 1.0401 - accuracy: 0.0000e+00\n",
      "Epoch 20/100\n",
      "1433/1433 [==============================] - 3s 2ms/step - loss: 0.0627 - mean_squared_error: 1.0400 - accuracy: 0.0000e+00\n",
      "Epoch 21/100\n",
      "1433/1433 [==============================] - 3s 2ms/step - loss: 0.0697 - mean_squared_error: 1.0402 - accuracy: 0.0000e+00\n",
      "Epoch 22/100\n",
      "1433/1433 [==============================] - 3s 2ms/step - loss: 0.0175 - mean_squared_error: 1.0398 - accuracy: 0.0000e+00\n",
      "Epoch 23/100\n",
      "1433/1433 [==============================] - 3s 2ms/step - loss: 0.0546 - mean_squared_error: 1.0401 - accuracy: 0.0000e+00\n",
      "Epoch 24/100\n",
      "1433/1433 [==============================] - 3s 2ms/step - loss: 0.0220 - mean_squared_error: 1.0400 - accuracy: 0.0000e+00\n",
      "Epoch 25/100\n",
      "1433/1433 [==============================] - 3s 2ms/step - loss: -0.0121 - mean_squared_error: 1.0400 - accuracy: 0.0000e+00\n",
      "Epoch 26/100\n",
      "1433/1433 [==============================] - 3s 2ms/step - loss: 0.0700 - mean_squared_error: 1.0400 - accuracy: 0.0000e+00\n",
      "Epoch 27/100\n",
      "1433/1433 [==============================] - 3s 2ms/step - loss: 0.0450 - mean_squared_error: 1.0399 - accuracy: 0.0000e+00\n",
      "Epoch 28/100\n",
      "1433/1433 [==============================] - 3s 2ms/step - loss: 0.0107 - mean_squared_error: 1.0398 - accuracy: 0.0000e+00\n",
      "Epoch 29/100\n",
      "1433/1433 [==============================] - 3s 2ms/step - loss: 0.0461 - mean_squared_error: 1.0400 - accuracy: 0.0000e+00\n",
      "Epoch 30/100\n",
      "1433/1433 [==============================] - 3s 2ms/step - loss: 0.0211 - mean_squared_error: 1.0399 - accuracy: 0.0000e+00\n",
      "Epoch 31/100\n",
      "1433/1433 [==============================] - 3s 2ms/step - loss: 0.0305 - mean_squared_error: 1.0399 - accuracy: 0.0000e+00\n",
      "Epoch 32/100\n",
      "1433/1433 [==============================] - 3s 2ms/step - loss: 0.0590 - mean_squared_error: 1.0400 - accuracy: 0.0000e+00\n",
      "Epoch 33/100\n",
      "1433/1433 [==============================] - 3s 2ms/step - loss: 0.0263 - mean_squared_error: 1.0398 - accuracy: 0.0000e+00\n",
      "Epoch 34/100\n",
      "1433/1433 [==============================] - 3s 2ms/step - loss: 0.0154 - mean_squared_error: 1.0400 - accuracy: 0.0000e+00\n",
      "Epoch 35/100\n",
      "1433/1433 [==============================] - 3s 2ms/step - loss: 0.0579 - mean_squared_error: 1.0399 - accuracy: 0.0000e+00\n",
      "Epoch 36/100\n",
      "1433/1433 [==============================] - 3s 2ms/step - loss: 0.0311 - mean_squared_error: 1.0399 - accuracy: 0.0000e+00\n",
      "Epoch 37/100\n",
      "1433/1433 [==============================] - 3s 2ms/step - loss: 7.2011e-04 - mean_squared_error: 1.0397 - accuracy: 0.0000e+00\n",
      "Epoch 38/100\n",
      "1433/1433 [==============================] - 3s 2ms/step - loss: 0.0590 - mean_squared_error: 1.0399 - accuracy: 0.0000e+00\n",
      "Epoch 39/100\n",
      "1433/1433 [==============================] - 3s 2ms/step - loss: 0.0431 - mean_squared_error: 1.0399 - accuracy: 0.0000e+00\n",
      "Epoch 40/100\n",
      "1433/1433 [==============================] - 3s 2ms/step - loss: 0.0116 - mean_squared_error: 1.0399 - accuracy: 0.0000e+00\n",
      "Epoch 41/100\n",
      "1433/1433 [==============================] - 3s 2ms/step - loss: 0.0038 - mean_squared_error: 1.0399 - accuracy: 0.0000e+00\n",
      "Epoch 42/100\n",
      "1433/1433 [==============================] - 3s 2ms/step - loss: 0.0173 - mean_squared_error: 1.0398 - accuracy: 0.0000e+00\n",
      "Epoch 43/100\n",
      "1433/1433 [==============================] - 3s 2ms/step - loss: 0.0423 - mean_squared_error: 1.0399 - accuracy: 0.0000e+00\n",
      "Epoch 44/100\n",
      "1433/1433 [==============================] - 3s 2ms/step - loss: 0.0188 - mean_squared_error: 1.0399 - accuracy: 0.0000e+00\n",
      "Epoch 45/100\n",
      "1433/1433 [==============================] - 3s 2ms/step - loss: 0.0334 - mean_squared_error: 1.0400 - accuracy: 0.0000e+00\n",
      "Epoch 46/100\n",
      "1433/1433 [==============================] - 3s 2ms/step - loss: 0.0275 - mean_squared_error: 1.0399 - accuracy: 0.0000e+00\n",
      "Epoch 47/100\n",
      "1433/1433 [==============================] - 3s 2ms/step - loss: 0.0342 - mean_squared_error: 1.0398 - accuracy: 0.0000e+00\n",
      "Epoch 48/100\n",
      "1433/1433 [==============================] - 3s 2ms/step - loss: 0.0191 - mean_squared_error: 1.0399 - accuracy: 0.0000e+00\n",
      "Epoch 49/100\n",
      "1433/1433 [==============================] - 3s 2ms/step - loss: 0.0481 - mean_squared_error: 1.0399 - accuracy: 0.0000e+00\n",
      "Epoch 50/100\n",
      "1433/1433 [==============================] - 3s 2ms/step - loss: 0.0663 - mean_squared_error: 1.0399 - accuracy: 0.0000e+00\n",
      "Epoch 51/100\n",
      "1433/1433 [==============================] - 3s 2ms/step - loss: 0.0650 - mean_squared_error: 1.0399 - accuracy: 0.0000e+00\n",
      "Epoch 52/100\n",
      "1433/1433 [==============================] - 3s 2ms/step - loss: 0.0340 - mean_squared_error: 1.0399 - accuracy: 0.0000e+00\n",
      "Epoch 53/100\n",
      "1433/1433 [==============================] - 3s 2ms/step - loss: 0.0363 - mean_squared_error: 1.0399 - accuracy: 0.0000e+00\n",
      "Epoch 54/100\n",
      "1433/1433 [==============================] - 3s 2ms/step - loss: 0.0108 - mean_squared_error: 1.0398 - accuracy: 0.0000e+00\n",
      "Epoch 55/100\n",
      "1433/1433 [==============================] - 3s 2ms/step - loss: 0.0444 - mean_squared_error: 1.0399 - accuracy: 0.0000e+00\n",
      "Epoch 56/100\n",
      "1433/1433 [==============================] - 3s 2ms/step - loss: 0.0324 - mean_squared_error: 1.0399 - accuracy: 0.0000e+00\n",
      "Epoch 57/100\n",
      "1433/1433 [==============================] - 3s 2ms/step - loss: -0.0062 - mean_squared_error: 1.0399 - accuracy: 0.0000e+00\n",
      "Epoch 58/100\n",
      "1433/1433 [==============================] - 3s 2ms/step - loss: 0.1023 - mean_squared_error: 1.0400 - accuracy: 0.0000e+00\n",
      "Epoch 59/100\n",
      "1433/1433 [==============================] - 3s 2ms/step - loss: 0.0310 - mean_squared_error: 1.0398 - accuracy: 0.0000e+00\n",
      "Epoch 60/100\n"
     ]
    },
    {
     "name": "stdout",
     "output_type": "stream",
     "text": [
      "1433/1433 [==============================] - 3s 2ms/step - loss: 0.0253 - mean_squared_error: 1.0399 - accuracy: 0.0000e+00\n",
      "Epoch 61/100\n",
      "1433/1433 [==============================] - 3s 2ms/step - loss: 0.0239 - mean_squared_error: 1.0398 - accuracy: 0.0000e+00\n",
      "Epoch 62/100\n",
      "1433/1433 [==============================] - 3s 2ms/step - loss: 0.0380 - mean_squared_error: 1.0399 - accuracy: 0.0000e+00\n",
      "Epoch 63/100\n",
      "1433/1433 [==============================] - 3s 2ms/step - loss: 0.0046 - mean_squared_error: 1.0398 - accuracy: 0.0000e+00\n",
      "Epoch 64/100\n",
      "1433/1433 [==============================] - 3s 2ms/step - loss: 0.0142 - mean_squared_error: 1.0398 - accuracy: 0.0000e+00\n",
      "Epoch 65/100\n",
      "1433/1433 [==============================] - 3s 2ms/step - loss: 0.0412 - mean_squared_error: 1.0399 - accuracy: 0.0000e+00\n",
      "Epoch 66/100\n",
      "1433/1433 [==============================] - 3s 2ms/step - loss: 0.0575 - mean_squared_error: 1.0399 - accuracy: 0.0000e+00\n",
      "Epoch 67/100\n",
      "1433/1433 [==============================] - 3s 2ms/step - loss: 0.0458 - mean_squared_error: 1.0400 - accuracy: 0.0000e+00\n",
      "Epoch 68/100\n",
      "1433/1433 [==============================] - 3s 2ms/step - loss: 0.0354 - mean_squared_error: 1.0399 - accuracy: 0.0000e+00\n",
      "Epoch 69/100\n",
      "1433/1433 [==============================] - 3s 2ms/step - loss: 0.0490 - mean_squared_error: 1.0399 - accuracy: 0.0000e+00\n",
      "Epoch 70/100\n",
      "1433/1433 [==============================] - 3s 2ms/step - loss: 0.0615 - mean_squared_error: 1.0399 - accuracy: 0.0000e+00\n",
      "Epoch 71/100\n",
      "1433/1433 [==============================] - 2s 2ms/step - loss: -0.0289 - mean_squared_error: 1.0398 - accuracy: 0.0000e+00\n",
      "Epoch 72/100\n",
      "1433/1433 [==============================] - 2s 2ms/step - loss: 0.0471 - mean_squared_error: 1.0399 - accuracy: 0.0000e+00\n",
      "Epoch 73/100\n",
      "1433/1433 [==============================] - 3s 2ms/step - loss: 0.0447 - mean_squared_error: 1.0398 - accuracy: 0.0000e+00\n",
      "Epoch 74/100\n",
      "1433/1433 [==============================] - 3s 2ms/step - loss: 0.0382 - mean_squared_error: 1.0399 - accuracy: 0.0000e+00\n",
      "Epoch 75/100\n",
      "1433/1433 [==============================] - 3s 2ms/step - loss: 0.0400 - mean_squared_error: 1.0399 - accuracy: 0.0000e+00\n",
      "Epoch 76/100\n",
      "1433/1433 [==============================] - 3s 2ms/step - loss: 0.0630 - mean_squared_error: 1.0399 - accuracy: 0.0000e+00\n",
      "Epoch 77/100\n",
      "1433/1433 [==============================] - 3s 2ms/step - loss: 0.0373 - mean_squared_error: 1.0399 - accuracy: 0.0000e+00\n",
      "Epoch 78/100\n",
      "1433/1433 [==============================] - 3s 2ms/step - loss: 0.0447 - mean_squared_error: 1.0399 - accuracy: 0.0000e+00\n",
      "Epoch 79/100\n",
      "1433/1433 [==============================] - 3s 2ms/step - loss: 0.0615 - mean_squared_error: 1.0400 - accuracy: 0.0000e+00\n",
      "Epoch 80/100\n",
      "1433/1433 [==============================] - 3s 2ms/step - loss: 0.0465 - mean_squared_error: 1.0399 - accuracy: 0.0000e+00\n",
      "Epoch 81/100\n",
      "1433/1433 [==============================] - 3s 2ms/step - loss: 0.0596 - mean_squared_error: 1.0400 - accuracy: 0.0000e+00\n",
      "Epoch 82/100\n",
      "1433/1433 [==============================] - 3s 2ms/step - loss: 0.0022 - mean_squared_error: 1.0399 - accuracy: 0.0000e+00\n",
      "Epoch 83/100\n",
      "1433/1433 [==============================] - 3s 2ms/step - loss: 0.0320 - mean_squared_error: 1.0399 - accuracy: 0.0000e+00\n",
      "Epoch 84/100\n",
      "1433/1433 [==============================] - 3s 2ms/step - loss: 0.0030 - mean_squared_error: 1.0399 - accuracy: 0.0000e+00\n",
      "Epoch 85/100\n",
      "1433/1433 [==============================] - 3s 2ms/step - loss: 0.0584 - mean_squared_error: 1.0400 - accuracy: 0.0000e+00\n",
      "Epoch 86/100\n",
      "1433/1433 [==============================] - 3s 2ms/step - loss: 0.0930 - mean_squared_error: 1.0399 - accuracy: 0.0000e+00\n",
      "Epoch 87/100\n",
      "1433/1433 [==============================] - 3s 2ms/step - loss: 0.0459 - mean_squared_error: 1.0400 - accuracy: 0.0000e+00\n",
      "Epoch 88/100\n",
      "1433/1433 [==============================] - 3s 2ms/step - loss: 0.0681 - mean_squared_error: 1.0399 - accuracy: 0.0000e+00\n",
      "Epoch 89/100\n",
      "1433/1433 [==============================] - 3s 2ms/step - loss: 0.0480 - mean_squared_error: 1.0399 - accuracy: 0.0000e+00\n",
      "Epoch 90/100\n",
      "1433/1433 [==============================] - 3s 2ms/step - loss: 0.0327 - mean_squared_error: 1.0399 - accuracy: 0.0000e+00\n",
      "Epoch 91/100\n",
      "1433/1433 [==============================] - 3s 2ms/step - loss: -0.0193 - mean_squared_error: 1.0398 - accuracy: 0.0000e+00\n",
      "Epoch 92/100\n",
      "1433/1433 [==============================] - 3s 2ms/step - loss: 0.0366 - mean_squared_error: 1.0399 - accuracy: 0.0000e+00\n",
      "Epoch 93/100\n",
      "1433/1433 [==============================] - 3s 2ms/step - loss: 0.0413 - mean_squared_error: 1.0399 - accuracy: 0.0000e+00\n",
      "Epoch 94/100\n",
      "1433/1433 [==============================] - 3s 2ms/step - loss: 0.0158 - mean_squared_error: 1.0399 - accuracy: 0.0000e+00\n",
      "Epoch 95/100\n",
      "1433/1433 [==============================] - 3s 2ms/step - loss: -0.0014 - mean_squared_error: 1.0398 - accuracy: 0.0000e+00\n",
      "Epoch 96/100\n",
      "1433/1433 [==============================] - 3s 2ms/step - loss: 0.0283 - mean_squared_error: 1.0399 - accuracy: 0.0000e+00\n",
      "Epoch 97/100\n",
      "1433/1433 [==============================] - 3s 2ms/step - loss: 0.0577 - mean_squared_error: 1.0398 - accuracy: 0.0000e+00\n",
      "Epoch 98/100\n",
      "1433/1433 [==============================] - 3s 2ms/step - loss: 0.0459 - mean_squared_error: 1.0399 - accuracy: 0.0000e+00\n",
      "Epoch 99/100\n",
      "1433/1433 [==============================] - 3s 2ms/step - loss: 0.0488 - mean_squared_error: 1.0399 - accuracy: 0.0000e+00\n",
      "Epoch 100/100\n",
      "1433/1433 [==============================] - 3s 2ms/step - loss: 0.0481 - mean_squared_error: 1.0400 - accuracy: 0.0000e+00\n"
     ]
    },
    {
     "data": {
      "text/plain": [
       "<tensorflow.python.keras.callbacks.History at 0x7f57c8ef1ba8>"
      ]
     },
     "execution_count": 51,
     "metadata": {},
     "output_type": "execute_result"
    }
   ],
   "source": [
    "# Inicializa a ANN\n",
    "regressor = Sequential()\n",
    "\n",
    "# Adiciona a primeira camada\n",
    "regressor.add(Dense(units=6, activation='softmax', kernel_initializer='uniform', input_dim=6))\n",
    "regressor.add(Dropout(0.2))\n",
    "\n",
    "# Segunda camada\n",
    "regressor.add(Dense(units=6, activation='softmax', kernel_initializer='uniform'))\n",
    "regressor.add(Dropout(0.2))\n",
    "\n",
    "#Terceira camada\n",
    "regressor.add(Dense(units=6, activation='softmax', kernel_initializer='uniform'))\n",
    "regressor.add(Dropout(0.2))\n",
    "\n",
    "#Quarta camada\n",
    "regressor.add(Dense(units=6, activation='softmax', kernel_initializer='uniform'))\n",
    "regressor.add(Dropout(0.2))\n",
    "\n",
    "#Quinta camada\n",
    "regressor.add(Dense(units=6, activation='softmax', kernel_initializer='uniform'))\n",
    "regressor.add(Dropout(0.2))\n",
    "\n",
    "#Sexta camada\n",
    "regressor.add(Dense(units=6, activation='softmax', kernel_initializer='uniform'))\n",
    "regressor.add(Dropout(0.2))\n",
    "\n",
    "#Sétima camada\n",
    "regressor.add(Dense(units=6, activation='softmax', kernel_initializer='uniform'))\n",
    "regressor.add(Dropout(0.2))\n",
    "\n",
    "# Camada de saida\n",
    "regressor.add(Dense(units=1, activation='sigmoid'))\n",
    "regressor.add(Dropout(0.2))\n",
    "\n",
    "# Compila\n",
    "regressor.compile(optimizer = 'adam', loss = 'binary_crossentropy', metrics=['mean_squared_error', 'accuracy'])\n",
    "\n",
    "# Executa o treinamento\n",
    "regressor.fit(X_train, y_train, epochs = 100, batch_size = 25)\n"
   ]
  },
  {
   "cell_type": "code",
   "execution_count": 52,
   "metadata": {},
   "outputs": [
    {
     "name": "stdout",
     "output_type": "stream",
     "text": [
      "Digite a fase do dia:\n",
      "Ex.:'Plena Noite'\n",
      "Plena Noite\n",
      "Digite o sentido da via:\n",
      "Ex.:'Crescente'\n",
      "Crescente\n",
      "Digite a condição meteorológica\n",
      "Ex.:'Chuva'\n",
      "Chuva\n",
      "Digite o tipo de pista\n",
      "Ex.:'Dupla'\n",
      "Dupla\n",
      "Digite o traçado da via\n",
      "Ex.:'Curva'\n",
      "Curva\n",
      "Digite se você está dirigindo sem companhia\n",
      "Ex.:'Sim'\n",
      "Sim\n"
     ]
    }
   ],
   "source": [
    "# Entrada dos dados do usuário\n",
    "test=[]\n",
    "test.append(input(\"Digite a fase do dia:\\nEx.:'Plena Noite'\\n\"))\n",
    "test.append(input(\"Digite o sentido da via:\\nEx.:'Crescente'\\n\"))\n",
    "test.append(input(\"Digite a condição meteorológica\\nEx.:'Chuva'\\n\"))\n",
    "test.append(input(\"Digite o tipo de pista\\nEx.:'Dupla'\\n\"))\n",
    "test.append(input(\"Digite o traçado da via\\nEx.:'Curva'\\n\"))\n",
    "test.append(input(\"Digite se você está dirigindo sem companhia\\nEx.:'Sim'\\n\"))\n",
    "\n",
    "test = pd.DataFrame({'dados': test})\n",
    "test = encoder.fit_transform(test.dados)\n",
    "test = np.reshape(test, (-1, 1))\n",
    "test = sc.fit_transform(test[:])\n",
    "test = np.reshape(test, (1, -1))"
   ]
  },
  {
   "cell_type": "code",
   "execution_count": 53,
   "metadata": {},
   "outputs": [
    {
     "name": "stdout",
     "output_type": "stream",
     "text": [
      "0.23\n"
     ]
    }
   ],
   "source": [
    "# Executa predição\n",
    "y_pred=regressor.predict(test)\n",
    "value = round(float(y_pred[0][0])*100, 2)\n",
    "print(value)"
   ]
  },
  {
   "cell_type": "code",
   "execution_count": null,
   "metadata": {},
   "outputs": [],
   "source": []
  },
  {
   "cell_type": "code",
   "execution_count": null,
   "metadata": {},
   "outputs": [],
   "source": []
  },
  {
   "cell_type": "code",
   "execution_count": null,
   "metadata": {},
   "outputs": [],
   "source": []
  }
 ],
 "metadata": {
  "kernelspec": {
   "display_name": "Python 3",
   "language": "python",
   "name": "python3"
  },
  "language_info": {
   "codemirror_mode": {
    "name": "ipython",
    "version": 3
   },
   "file_extension": ".py",
   "mimetype": "text/x-python",
   "name": "python",
   "nbconvert_exporter": "python",
   "pygments_lexer": "ipython3",
   "version": "3.6.8"
  }
 },
 "nbformat": 4,
 "nbformat_minor": 4
}
